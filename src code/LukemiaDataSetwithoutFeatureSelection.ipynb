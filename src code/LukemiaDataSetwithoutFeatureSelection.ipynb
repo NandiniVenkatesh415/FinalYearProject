{
 "cells": [
  {
   "cell_type": "code",
   "execution_count": 1,
   "metadata": {},
   "outputs": [],
   "source": [
    "import numpy as np\n",
    "import pandas as pd\n",
    "from matplotlib import pyplot as plt\n",
    "from sklearn.datasets import load_breast_cancer\n",
    "from sklearn.metrics import confusion_matrix\n",
    "from sklearn.neighbors import KNeighborsClassifier\n",
    "from sklearn import preprocessing\n",
    "from sklearn.model_selection import train_test_split\n",
    "import seaborn as sns\n",
    "sns.set()"
   ]
  },
  {
   "cell_type": "code",
   "execution_count": 2,
   "metadata": {},
   "outputs": [],
   "source": [
    "data = pd.read_csv(\"dataset3leu.csv\")"
   ]
  },
  {
   "cell_type": "code",
   "execution_count": 3,
   "metadata": {},
   "outputs": [
    {
     "data": {
      "text/plain": [
       "(71, 7129)"
      ]
     },
     "execution_count": 3,
     "metadata": {},
     "output_type": "execute_result"
    }
   ],
   "source": [
    "data.shape"
   ]
  },
  {
   "cell_type": "code",
   "execution_count": 4,
   "metadata": {},
   "outputs": [
    {
     "data": {
      "text/html": [
       "<div>\n",
       "<style scoped>\n",
       "    .dataframe tbody tr th:only-of-type {\n",
       "        vertical-align: middle;\n",
       "    }\n",
       "\n",
       "    .dataframe tbody tr th {\n",
       "        vertical-align: top;\n",
       "    }\n",
       "\n",
       "    .dataframe thead th {\n",
       "        text-align: right;\n",
       "    }\n",
       "</style>\n",
       "<table border=\"1\" class=\"dataframe\">\n",
       "  <thead>\n",
       "    <tr style=\"text-align: right;\">\n",
       "      <th></th>\n",
       "      <th>ALL</th>\n",
       "      <th>-1.533621735</th>\n",
       "      <th>-1.235672925</th>\n",
       "      <th>-0.333982875</th>\n",
       "      <th>0.488702121</th>\n",
       "      <th>-1.300893264</th>\n",
       "      <th>-1.682668245</th>\n",
       "      <th>-2.010994928</th>\n",
       "      <th>-1.449185684</th>\n",
       "      <th>0.035344171</th>\n",
       "      <th>...</th>\n",
       "      <th>0.385566637.10</th>\n",
       "      <th>1.268787786.1</th>\n",
       "      <th>-0.217953576.26</th>\n",
       "      <th>0.25538086.19</th>\n",
       "      <th>-1.057940081.19</th>\n",
       "      <th>1.295991951.1</th>\n",
       "      <th>0.733853066.6</th>\n",
       "      <th>-0.301622172.30</th>\n",
       "      <th>0.133657104.16</th>\n",
       "      <th>-0.825595612.23</th>\n",
       "    </tr>\n",
       "  </thead>\n",
       "  <tbody>\n",
       "    <tr>\n",
       "      <th>0</th>\n",
       "      <td>ALL</td>\n",
       "      <td>-0.867610</td>\n",
       "      <td>-1.275501</td>\n",
       "      <td>0.375927</td>\n",
       "      <td>0.444011</td>\n",
       "      <td>-1.229660</td>\n",
       "      <td>-1.642072</td>\n",
       "      <td>0.572919</td>\n",
       "      <td>-1.588304</td>\n",
       "      <td>0.219574</td>\n",
       "      <td>...</td>\n",
       "      <td>-0.158356</td>\n",
       "      <td>0.822880</td>\n",
       "      <td>-1.369024</td>\n",
       "      <td>0.542521</td>\n",
       "      <td>-0.796527</td>\n",
       "      <td>-0.218494</td>\n",
       "      <td>0.378380</td>\n",
       "      <td>-0.663166</td>\n",
       "      <td>-0.663166</td>\n",
       "      <td>-0.611045</td>\n",
       "    </tr>\n",
       "    <tr>\n",
       "      <th>1</th>\n",
       "      <td>ALL</td>\n",
       "      <td>-0.433172</td>\n",
       "      <td>-1.184492</td>\n",
       "      <td>-0.459196</td>\n",
       "      <td>0.436264</td>\n",
       "      <td>-1.325882</td>\n",
       "      <td>-1.407264</td>\n",
       "      <td>-0.264655</td>\n",
       "      <td>-1.147713</td>\n",
       "      <td>-0.573541</td>\n",
       "      <td>...</td>\n",
       "      <td>0.662728</td>\n",
       "      <td>0.642714</td>\n",
       "      <td>-0.466828</td>\n",
       "      <td>0.856140</td>\n",
       "      <td>-0.416816</td>\n",
       "      <td>1.132893</td>\n",
       "      <td>0.475669</td>\n",
       "      <td>-0.530138</td>\n",
       "      <td>1.566946</td>\n",
       "      <td>-0.805978</td>\n",
       "    </tr>\n",
       "    <tr>\n",
       "      <th>2</th>\n",
       "      <td>ALL</td>\n",
       "      <td>-1.671903</td>\n",
       "      <td>-1.596424</td>\n",
       "      <td>-1.422571</td>\n",
       "      <td>0.193353</td>\n",
       "      <td>-1.818329</td>\n",
       "      <td>-1.744469</td>\n",
       "      <td>-1.793197</td>\n",
       "      <td>-1.446178</td>\n",
       "      <td>-0.325815</td>\n",
       "      <td>...</td>\n",
       "      <td>0.161918</td>\n",
       "      <td>0.462715</td>\n",
       "      <td>-0.585185</td>\n",
       "      <td>-0.181008</td>\n",
       "      <td>-0.611257</td>\n",
       "      <td>1.113077</td>\n",
       "      <td>0.148928</td>\n",
       "      <td>-0.625945</td>\n",
       "      <td>0.871972</td>\n",
       "      <td>-1.037246</td>\n",
       "    </tr>\n",
       "    <tr>\n",
       "      <th>3</th>\n",
       "      <td>ALL</td>\n",
       "      <td>-1.187689</td>\n",
       "      <td>-1.335256</td>\n",
       "      <td>-0.797493</td>\n",
       "      <td>0.235632</td>\n",
       "      <td>-1.311206</td>\n",
       "      <td>-1.654381</td>\n",
       "      <td>-1.441690</td>\n",
       "      <td>-1.058556</td>\n",
       "      <td>-0.582683</td>\n",
       "      <td>...</td>\n",
       "      <td>0.176721</td>\n",
       "      <td>0.750758</td>\n",
       "      <td>-0.380081</td>\n",
       "      <td>0.526298</td>\n",
       "      <td>-0.888026</td>\n",
       "      <td>0.719203</td>\n",
       "      <td>0.419502</td>\n",
       "      <td>-0.487514</td>\n",
       "      <td>0.358999</td>\n",
       "      <td>-0.742858</td>\n",
       "    </tr>\n",
       "    <tr>\n",
       "      <th>4</th>\n",
       "      <td>ALL</td>\n",
       "      <td>-1.127234</td>\n",
       "      <td>-1.113730</td>\n",
       "      <td>-1.362768</td>\n",
       "      <td>-0.360312</td>\n",
       "      <td>-1.513975</td>\n",
       "      <td>-1.777619</td>\n",
       "      <td>0.824113</td>\n",
       "      <td>-1.237939</td>\n",
       "      <td>-0.348518</td>\n",
       "      <td>...</td>\n",
       "      <td>-0.181902</td>\n",
       "      <td>1.317042</td>\n",
       "      <td>-0.835275</td>\n",
       "      <td>0.603224</td>\n",
       "      <td>-0.644228</td>\n",
       "      <td>1.490610</td>\n",
       "      <td>1.000031</td>\n",
       "      <td>-0.172972</td>\n",
       "      <td>0.080430</td>\n",
       "      <td>-0.670192</td>\n",
       "    </tr>\n",
       "  </tbody>\n",
       "</table>\n",
       "<p>5 rows × 7129 columns</p>\n",
       "</div>"
      ],
      "text/plain": [
       "   ALL  -1.533621735  -1.235672925  -0.333982875  0.488702121  -1.300893264  \\\n",
       "0  ALL     -0.867610     -1.275501      0.375927     0.444011     -1.229660   \n",
       "1  ALL     -0.433172     -1.184492     -0.459196     0.436264     -1.325882   \n",
       "2  ALL     -1.671903     -1.596424     -1.422571     0.193353     -1.818329   \n",
       "3  ALL     -1.187689     -1.335256     -0.797493     0.235632     -1.311206   \n",
       "4  ALL     -1.127234     -1.113730     -1.362768    -0.360312     -1.513975   \n",
       "\n",
       "   -1.682668245  -2.010994928  -1.449185684  0.035344171  ...  0.385566637.10  \\\n",
       "0     -1.642072      0.572919     -1.588304     0.219574  ...       -0.158356   \n",
       "1     -1.407264     -0.264655     -1.147713    -0.573541  ...        0.662728   \n",
       "2     -1.744469     -1.793197     -1.446178    -0.325815  ...        0.161918   \n",
       "3     -1.654381     -1.441690     -1.058556    -0.582683  ...        0.176721   \n",
       "4     -1.777619      0.824113     -1.237939    -0.348518  ...       -0.181902   \n",
       "\n",
       "   1.268787786.1  -0.217953576.26  0.25538086.19  -1.057940081.19  \\\n",
       "0       0.822880        -1.369024       0.542521        -0.796527   \n",
       "1       0.642714        -0.466828       0.856140        -0.416816   \n",
       "2       0.462715        -0.585185      -0.181008        -0.611257   \n",
       "3       0.750758        -0.380081       0.526298        -0.888026   \n",
       "4       1.317042        -0.835275       0.603224        -0.644228   \n",
       "\n",
       "   1.295991951.1  0.733853066.6  -0.301622172.30  0.133657104.16  \\\n",
       "0      -0.218494       0.378380        -0.663166       -0.663166   \n",
       "1       1.132893       0.475669        -0.530138        1.566946   \n",
       "2       1.113077       0.148928        -0.625945        0.871972   \n",
       "3       0.719203       0.419502        -0.487514        0.358999   \n",
       "4       1.490610       1.000031        -0.172972        0.080430   \n",
       "\n",
       "   -0.825595612.23  \n",
       "0        -0.611045  \n",
       "1        -0.805978  \n",
       "2        -1.037246  \n",
       "3        -0.742858  \n",
       "4        -0.670192  \n",
       "\n",
       "[5 rows x 7129 columns]"
      ]
     },
     "execution_count": 4,
     "metadata": {},
     "output_type": "execute_result"
    }
   ],
   "source": [
    "data.head()"
   ]
  },
  {
   "cell_type": "code",
   "execution_count": 5,
   "metadata": {},
   "outputs": [],
   "source": [
    "data = data.dropna()"
   ]
  },
  {
   "cell_type": "code",
   "execution_count": 6,
   "metadata": {},
   "outputs": [],
   "source": [
    "le = preprocessing.LabelEncoder()"
   ]
  },
  {
   "cell_type": "code",
   "execution_count": 7,
   "metadata": {},
   "outputs": [],
   "source": [
    "res = le.fit(data['ALL'])\n",
    "res = le.transform(data['ALL'])"
   ]
  },
  {
   "cell_type": "code",
   "execution_count": 8,
   "metadata": {},
   "outputs": [],
   "source": [
    "data['ALL'] = res"
   ]
  },
  {
   "cell_type": "code",
   "execution_count": 9,
   "metadata": {},
   "outputs": [
    {
     "data": {
      "text/plain": [
       "False"
      ]
     },
     "execution_count": 9,
     "metadata": {},
     "output_type": "execute_result"
    }
   ],
   "source": [
    "data.isnull().values.any()"
   ]
  },
  {
   "cell_type": "code",
   "execution_count": 10,
   "metadata": {},
   "outputs": [],
   "source": [
    "X = data.drop(['ALL'],axis=1)\n",
    "y = data['ALL']"
   ]
  },
  {
   "cell_type": "code",
   "execution_count": 11,
   "metadata": {},
   "outputs": [],
   "source": [
    "from sklearn.model_selection import train_test_split \n",
    "xtrain, xtest, ytrain, ytest = train_test_split(X, y, test_size = 0.25, random_state = 0) \n"
   ]
  },
  {
   "cell_type": "code",
   "execution_count": 12,
   "metadata": {},
   "outputs": [
    {
     "data": {
      "text/plain": [
       "GaussianNB()"
      ]
     },
     "execution_count": 12,
     "metadata": {},
     "output_type": "execute_result"
    }
   ],
   "source": [
    "from sklearn.naive_bayes import GaussianNB \n",
    "gnb = GaussianNB() \n",
    "gnb.fit(xtrain, ytrain) "
   ]
  },
  {
   "cell_type": "code",
   "execution_count": 13,
   "metadata": {},
   "outputs": [],
   "source": [
    "y_pred = gnb.predict(xtest) "
   ]
  },
  {
   "cell_type": "code",
   "execution_count": 14,
   "metadata": {},
   "outputs": [
    {
     "data": {
      "text/plain": [
       "array([[9, 0],\n",
       "       [2, 7]])"
      ]
     },
     "execution_count": 14,
     "metadata": {},
     "output_type": "execute_result"
    }
   ],
   "source": [
    "confusion_matrix(ytest, y_pred)"
   ]
  },
  {
   "cell_type": "code",
   "execution_count": 15,
   "metadata": {},
   "outputs": [
    {
     "name": "stdout",
     "output_type": "stream",
     "text": [
      " Navie Bayes Accuracy :  0.8888888888888888\n"
     ]
    }
   ],
   "source": [
    "from sklearn.metrics import accuracy_score \n",
    "print (\" Navie Bayes Accuracy : \", accuracy_score(ytest, y_pred)) \n"
   ]
  },
  {
   "cell_type": "code",
   "execution_count": 16,
   "metadata": {},
   "outputs": [],
   "source": [
    "from sklearn.ensemble import RandomForestClassifier\n",
    "clf=RandomForestClassifier(n_estimators=100)\n",
    "clf.fit(xtrain,ytrain)\n",
    "y_pred=clf.predict(xtest)"
   ]
  },
  {
   "cell_type": "code",
   "execution_count": 17,
   "metadata": {},
   "outputs": [
    {
     "name": "stdout",
     "output_type": "stream",
     "text": [
      "Random Forest Accuracy :  0.8888888888888888\n"
     ]
    }
   ],
   "source": [
    "from sklearn.metrics import accuracy_score \n",
    "print (\"Random Forest Accuracy : \", accuracy_score(ytest, y_pred)) \n"
   ]
  },
  {
   "cell_type": "code",
   "execution_count": 18,
   "metadata": {},
   "outputs": [
    {
     "data": {
      "text/plain": [
       "KNeighborsClassifier(metric='euclidean')"
      ]
     },
     "execution_count": 18,
     "metadata": {},
     "output_type": "execute_result"
    }
   ],
   "source": [
    "knn = KNeighborsClassifier(n_neighbors=5, metric='euclidean')\n",
    "knn.fit(xtrain, ytrain)"
   ]
  },
  {
   "cell_type": "code",
   "execution_count": 19,
   "metadata": {},
   "outputs": [],
   "source": [
    "y_pred = knn.predict(xtest)"
   ]
  },
  {
   "cell_type": "code",
   "execution_count": 20,
   "metadata": {},
   "outputs": [
    {
     "name": "stdout",
     "output_type": "stream",
     "text": [
      "KNN Accuracy :  0.9444444444444444\n"
     ]
    }
   ],
   "source": [
    "from sklearn.metrics import accuracy_score \n",
    "print (\"KNN Accuracy : \", accuracy_score(ytest, y_pred)) \n"
   ]
  },
  {
   "cell_type": "code",
   "execution_count": 21,
   "metadata": {},
   "outputs": [
    {
     "data": {
      "text/plain": [
       "SVC(kernel='linear')"
      ]
     },
     "execution_count": 21,
     "metadata": {},
     "output_type": "execute_result"
    }
   ],
   "source": [
    "from sklearn.svm import SVC\n",
    "svclassifier = SVC(kernel='linear')\n",
    "svclassifier.fit(xtrain, ytrain)"
   ]
  },
  {
   "cell_type": "code",
   "execution_count": 22,
   "metadata": {},
   "outputs": [],
   "source": [
    "from sklearn import svm\n",
    "from sklearn.multiclass import OneVsRestClassifier\n",
    "clf = OneVsRestClassifier(svm.SVC(gamma=0.01, C=100., probability=True, class_weight='balanced', kernel='linear'))\n",
    "clf.fit(xtrain, ytrain)\n",
    "y_pred=clf.predict(xtest)"
   ]
  },
  {
   "cell_type": "code",
   "execution_count": 23,
   "metadata": {},
   "outputs": [
    {
     "name": "stdout",
     "output_type": "stream",
     "text": [
      "0.9444444444444444\n",
      "              precision    recall  f1-score   support\n",
      "\n",
      "           0       0.90      1.00      0.95         9\n",
      "           1       1.00      0.89      0.94         9\n",
      "\n",
      "    accuracy                           0.94        18\n",
      "   macro avg       0.95      0.94      0.94        18\n",
      "weighted avg       0.95      0.94      0.94        18\n",
      "\n"
     ]
    }
   ],
   "source": [
    "from sklearn.metrics import classification_report,confusion_matrix,accuracy_score\n",
    "print(accuracy_score(ytest,y_pred))\n",
    "print(classification_report(ytest,y_pred))"
   ]
  },
  {
   "cell_type": "code",
   "execution_count": 24,
   "metadata": {},
   "outputs": [],
   "source": [
    "from sklearn.ensemble import GradientBoostingClassifier\n",
    "from sklearn.metrics import classification_report, confusion_matrix, roc_curve, auc"
   ]
  },
  {
   "cell_type": "code",
   "execution_count": 25,
   "metadata": {},
   "outputs": [
    {
     "name": "stdout",
     "output_type": "stream",
     "text": [
      "Learning rate:  0.05\n",
      "Accuracy score (training): 0.887\n",
      "Accuracy score (validation): 0.500\n",
      "\n",
      "Learning rate:  0.1\n",
      "Accuracy score (training): 1.000\n",
      "Accuracy score (validation): 0.611\n",
      "\n",
      "Learning rate:  0.25\n",
      "Accuracy score (training): 1.000\n",
      "Accuracy score (validation): 0.778\n",
      "\n",
      "Learning rate:  0.5\n",
      "Accuracy score (training): 1.000\n",
      "Accuracy score (validation): 0.889\n",
      "\n",
      "Learning rate:  0.75\n",
      "Accuracy score (training): 1.000\n",
      "Accuracy score (validation): 0.722\n",
      "\n",
      "Learning rate:  1\n",
      "Accuracy score (training): 1.000\n",
      "Accuracy score (validation): 0.889\n",
      "\n"
     ]
    }
   ],
   "source": [
    "learning_rates = [0.05, 0.1, 0.25, 0.5, 0.75, 1]\n",
    "for learning_rate in learning_rates:\n",
    "    gb = GradientBoostingClassifier(n_estimators=20, learning_rate = learning_rate, max_features=2, max_depth = 2, random_state = 0)\n",
    "    gb.fit(xtrain, ytrain)\n",
    "    print(\"Learning rate: \", learning_rate)\n",
    "    print(\"Accuracy score (training): {0:.3f}\".format(gb.score(xtrain, ytrain)))\n",
    "    print(\"Accuracy score (validation): {0:.3f}\".format(gb.score(xtest, ytest)))\n",
    "    print()"
   ]
  },
  {
   "cell_type": "code",
   "execution_count": 26,
   "metadata": {},
   "outputs": [
    {
     "name": "stdout",
     "output_type": "stream",
     "text": [
      "Confusion Matrix:\n",
      "[[9 0]\n",
      " [2 7]]\n",
      "\n",
      "Classification Report\n",
      "              precision    recall  f1-score   support\n",
      "\n",
      "           0       0.82      1.00      0.90         9\n",
      "           1       1.00      0.78      0.88         9\n",
      "\n",
      "    accuracy                           0.89        18\n",
      "   macro avg       0.91      0.89      0.89        18\n",
      "weighted avg       0.91      0.89      0.89        18\n",
      "\n",
      "Accuracy :  0.8888888888888888\n"
     ]
    }
   ],
   "source": [
    "gb = GradientBoostingClassifier(n_estimators=20, learning_rate = 0.5, max_features=2, max_depth = 2, random_state = 0)\n",
    "gb.fit(xtrain, ytrain)\n",
    "predictions = gb.predict(xtest)\n",
    "\n",
    "print(\"Confusion Matrix:\")\n",
    "print(confusion_matrix(ytest, predictions))\n",
    "print()\n",
    "print(\"Classification Report\")\n",
    "print(classification_report(ytest, predictions))\n",
    "from sklearn.metrics import accuracy_score \n",
    "print (\"Accuracy : \", accuracy_score(ytest, predictions)) "
   ]
  },
  {
   "cell_type": "code",
   "execution_count": 27,
   "metadata": {},
   "outputs": [],
   "source": [
    "# Create Decision Tree classifer object\n",
    "from sklearn.tree import DecisionTreeClassifier \n",
    "clf = DecisionTreeClassifier()\n",
    "\n",
    "# Train Decision Tree Classifer\n",
    "clf = clf.fit(xtrain,ytrain)\n",
    "\n",
    "#Predict the response for test dataset\n",
    "y_pred = clf.predict(xtest)"
   ]
  },
  {
   "cell_type": "code",
   "execution_count": 28,
   "metadata": {},
   "outputs": [
    {
     "data": {
      "text/plain": [
       "array([[8, 1],\n",
       "       [6, 3]])"
      ]
     },
     "execution_count": 28,
     "metadata": {},
     "output_type": "execute_result"
    }
   ],
   "source": [
    "from sklearn.metrics import confusion_matrix\n",
    "confusion_matrix(ytest, y_pred)"
   ]
  },
  {
   "cell_type": "code",
   "execution_count": 29,
   "metadata": {},
   "outputs": [
    {
     "name": "stdout",
     "output_type": "stream",
     "text": [
      "Accuracy decision:  0.6111111111111112\n"
     ]
    }
   ],
   "source": [
    "from sklearn.metrics import accuracy_score \n",
    "print (\"Accuracy decision: \", accuracy_score(ytest, y_pred)) "
   ]
  },
  {
   "cell_type": "code",
   "execution_count": 30,
   "metadata": {},
   "outputs": [],
   "source": [
    "from sklearn.preprocessing import LabelEncoder\n",
    "from sklearn.metrics import accuracy_score\n",
    "from sklearn.model_selection import train_test_split\n",
    "from sklearn.cluster import KMeans\n",
    "from sklearn.preprocessing import StandardScaler\n",
    "import numpy as numpy \n",
    "\n"
   ]
  },
  {
   "cell_type": "code",
   "execution_count": 31,
   "metadata": {},
   "outputs": [],
   "source": [
    "scaler= StandardScaler()\n",
    "scaler.fit(xtrain)\n",
    "xtrain= scaler.transform(xtrain)\n",
    "xtest= scaler.transform(xtest)"
   ]
  },
  {
   "cell_type": "code",
   "execution_count": 32,
   "metadata": {},
   "outputs": [],
   "source": [
    "from sklearn.cluster import KMeans\n",
    "from sklearn.preprocessing import StandardScaler\n",
    "K_cent= 5\n",
    "km= KMeans(n_clusters= K_cent, max_iter= 1000)\n",
    "km.fit(xtrain)\n",
    "cent= km.cluster_centers_"
   ]
  },
  {
   "cell_type": "code",
   "execution_count": 33,
   "metadata": {},
   "outputs": [],
   "source": [
    "from sklearn.metrics import accuracy_score\n",
    "import math\n",
    "max=0 \n",
    "for i in range(K_cent):\n",
    "\tfor j in range(K_cent):\n",
    "\t\td= numpy.linalg.norm(cent[i]-cent[j])\n",
    "\t\tif(d> max):\n",
    "\t\t\tmax= d\n",
    "d= max\n",
    "\n",
    "sigma= d/math.sqrt(2*K_cent)"
   ]
  },
  {
   "cell_type": "code",
   "execution_count": 38,
   "metadata": {},
   "outputs": [
    {
     "data": {
      "text/plain": [
       "(53, 7128)"
      ]
     },
     "execution_count": 38,
     "metadata": {},
     "output_type": "execute_result"
    }
   ],
   "source": [
    "xtrain.shape"
   ]
  },
  {
   "cell_type": "code",
   "execution_count": 34,
   "metadata": {},
   "outputs": [],
   "source": [
    "shape= xtrain.shape\n",
    "row= shape[0]\n",
    "column= K_cent\n",
    "G= numpy.empty((row,column), dtype= float)\n",
    "for i in range(row):\n",
    "    for j in range(column):\n",
    "        dist= numpy.linalg.norm(xtrain[i]-cent[j])\n",
    "        G[i][j]= math.exp(-math.pow(dist,2)/math.pow(2*sigma,2))"
   ]
  },
  {
   "cell_type": "code",
   "execution_count": 35,
   "metadata": {},
   "outputs": [],
   "source": [
    "GTG= numpy.dot(G.T,G)\n",
    "GTG_inv= numpy.linalg.inv(GTG)\n",
    "fac= numpy.dot(GTG_inv,G.T)\n",
    "W= numpy.dot(fac,ytrain)"
   ]
  },
  {
   "cell_type": "code",
   "execution_count": 36,
   "metadata": {},
   "outputs": [],
   "source": [
    "row= xtest.shape[0]\n",
    "column= K_cent\n",
    "G_test= numpy.empty((row,column), dtype= float)\n",
    "for i in range(row):\n",
    "\tfor j in range(column):\n",
    "\t\tdist= numpy.linalg.norm(xtest[i]-cent[j])\n",
    "\t\tG_test[i][j]= math.exp(-math.pow(dist,2)/math.pow(2*sigma,2))"
   ]
  },
  {
   "cell_type": "code",
   "execution_count": 37,
   "metadata": {},
   "outputs": [
    {
     "name": "stdout",
     "output_type": "stream",
     "text": [
      "0.7777777777777778\n"
     ]
    }
   ],
   "source": [
    "prediction= numpy.dot(G_test,W)\n",
    "prediction= 0.5*(numpy.sign(prediction-0.5)+1)\n",
    "\n",
    "score= accuracy_score(prediction,ytest)\n",
    "print(score)"
   ]
  },
  {
   "cell_type": "code",
   "execution_count": 42,
   "metadata": {},
   "outputs": [
    {
     "name": "stdout",
     "output_type": "stream",
     "text": [
      "FINAL RESULT\n",
      "Algorithm   |Without FS  \n",
      "-------------------------\n",
      "NB          |88.88       \n",
      "KNN         |94.46       \n",
      "DT          |61.1        \n",
      "RF          |88.86       \n",
      "SVM         |94.44       \n",
      "GBT         |77.77       \n"
     ]
    }
   ],
   "source": [
    "print(\"FINAL RESULT\")\n",
    "Algorithm=['NB','KNN','DT','RF','SVM','GBT']\n",
    "Without_feature_selection=['88.88','94.46','61.1','88.86','94.44','77.77']\n",
    "titles = ['Algorithm', 'Without FS']\n",
    "data = [titles] + list(zip(Algorithm,Without_feature_selection))\n",
    "for i, d in enumerate(data):\n",
    "    line = '|'.join(str(x).ljust(12) for x in d)\n",
    "    print(line)\n",
    "    if i == 0:\n",
    "        print('-' * len(line))\n"
   ]
  }
 ],
 "metadata": {
  "kernelspec": {
   "display_name": "Python 3",
   "language": "python",
   "name": "python3"
  },
  "language_info": {
   "codemirror_mode": {
    "name": "ipython",
    "version": 3
   },
   "file_extension": ".py",
   "mimetype": "text/x-python",
   "name": "python",
   "nbconvert_exporter": "python",
   "pygments_lexer": "ipython3",
   "version": "3.7.3"
  }
 },
 "nbformat": 4,
 "nbformat_minor": 2
}
